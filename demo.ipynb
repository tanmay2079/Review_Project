{
 "cells": [
  {
   "cell_type": "code",
   "execution_count": 1,
   "id": "ee9a56f8",
   "metadata": {},
   "outputs": [],
   "source": [
    "# GUI APP\n",
    "# FLASK APP"
   ]
  },
  {
   "cell_type": "code",
   "execution_count": 2,
   "id": "dde1fc48",
   "metadata": {},
   "outputs": [],
   "source": [
    "# GUI APP -- Desktop application"
   ]
  },
  {
   "cell_type": "code",
   "execution_count": 3,
   "id": "7f4ee93f",
   "metadata": {},
   "outputs": [],
   "source": [
    "# Flask APP -- Web applictaion"
   ]
  },
  {
   "cell_type": "code",
   "execution_count": 4,
   "id": "8e3a093a",
   "metadata": {},
   "outputs": [
    {
     "name": "stdout",
     "output_type": "stream",
     "text": [
      "Collecting pymysql\n",
      "  Downloading PyMySQL-1.1.1-py3-none-any.whl.metadata (4.4 kB)\n",
      "Downloading PyMySQL-1.1.1-py3-none-any.whl (44 kB)\n",
      "Installing collected packages: pymysql\n",
      "Successfully installed pymysql-1.1.1\n"
     ]
    }
   ],
   "source": [
    "!pip install pymysql"
   ]
  },
  {
   "cell_type": "code",
   "execution_count": 5,
   "id": "568b9117",
   "metadata": {},
   "outputs": [
    {
     "name": "stdout",
     "output_type": "stream",
     "text": [
      "Collecting pandas\n",
      "  Downloading pandas-2.3.1-cp310-cp310-win_amd64.whl.metadata (19 kB)\n",
      "Requirement already satisfied: numpy>=1.22.4 in c:\\users\\vikas\\anaconda3\\envs\\malenv\\lib\\site-packages (from pandas) (2.1.3)\n",
      "Requirement already satisfied: python-dateutil>=2.8.2 in c:\\users\\vikas\\anaconda3\\envs\\malenv\\lib\\site-packages (from pandas) (2.9.0.post0)\n",
      "Collecting pytz>=2020.1 (from pandas)\n",
      "  Downloading pytz-2025.2-py2.py3-none-any.whl.metadata (22 kB)\n",
      "Collecting tzdata>=2022.7 (from pandas)\n",
      "  Downloading tzdata-2025.2-py2.py3-none-any.whl.metadata (1.4 kB)\n",
      "Requirement already satisfied: six>=1.5 in c:\\users\\vikas\\anaconda3\\envs\\malenv\\lib\\site-packages (from python-dateutil>=2.8.2->pandas) (1.17.0)\n",
      "Downloading pandas-2.3.1-cp310-cp310-win_amd64.whl (11.3 MB)\n",
      "   ---------------------------------------- 0.0/11.3 MB ? eta -:--:--\n",
      "   ---------- ----------------------------- 2.9/11.3 MB 15.2 MB/s eta 0:00:01\n",
      "   ------------------- -------------------- 5.5/11.3 MB 13.4 MB/s eta 0:00:01\n",
      "   ---------------------------- ----------- 8.1/11.3 MB 12.9 MB/s eta 0:00:01\n",
      "   ------------------------------------- -- 10.7/11.3 MB 12.7 MB/s eta 0:00:01\n",
      "   ---------------------------------------- 11.3/11.3 MB 12.0 MB/s eta 0:00:00\n",
      "Downloading pytz-2025.2-py2.py3-none-any.whl (509 kB)\n",
      "Downloading tzdata-2025.2-py2.py3-none-any.whl (347 kB)\n",
      "Installing collected packages: pytz, tzdata, pandas\n",
      "\n",
      "   ---------------------------------------- 0/3 [pytz]\n",
      "   ---------------------------------------- 0/3 [pytz]\n",
      "   ------------- -------------------------- 1/3 [tzdata]\n",
      "   ------------- -------------------------- 1/3 [tzdata]\n",
      "   -------------------------- ------------- 2/3 [pandas]\n",
      "   -------------------------- ------------- 2/3 [pandas]\n",
      "   -------------------------- ------------- 2/3 [pandas]\n",
      "   -------------------------- ------------- 2/3 [pandas]\n",
      "   -------------------------- ------------- 2/3 [pandas]\n",
      "   -------------------------- ------------- 2/3 [pandas]\n",
      "   -------------------------- ------------- 2/3 [pandas]\n",
      "   -------------------------- ------------- 2/3 [pandas]\n",
      "   -------------------------- ------------- 2/3 [pandas]\n",
      "   -------------------------- ------------- 2/3 [pandas]\n",
      "   -------------------------- ------------- 2/3 [pandas]\n",
      "   -------------------------- ------------- 2/3 [pandas]\n",
      "   -------------------------- ------------- 2/3 [pandas]\n",
      "   -------------------------- ------------- 2/3 [pandas]\n",
      "   -------------------------- ------------- 2/3 [pandas]\n",
      "   -------------------------- ------------- 2/3 [pandas]\n",
      "   -------------------------- ------------- 2/3 [pandas]\n",
      "   -------------------------- ------------- 2/3 [pandas]\n",
      "   -------------------------- ------------- 2/3 [pandas]\n",
      "   -------------------------- ------------- 2/3 [pandas]\n",
      "   -------------------------- ------------- 2/3 [pandas]\n",
      "   -------------------------- ------------- 2/3 [pandas]\n",
      "   -------------------------- ------------- 2/3 [pandas]\n",
      "   -------------------------- ------------- 2/3 [pandas]\n",
      "   -------------------------- ------------- 2/3 [pandas]\n",
      "   -------------------------- ------------- 2/3 [pandas]\n",
      "   -------------------------- ------------- 2/3 [pandas]\n",
      "   -------------------------- ------------- 2/3 [pandas]\n",
      "   -------------------------- ------------- 2/3 [pandas]\n",
      "   -------------------------- ------------- 2/3 [pandas]\n",
      "   -------------------------- ------------- 2/3 [pandas]\n",
      "   -------------------------- ------------- 2/3 [pandas]\n",
      "   -------------------------- ------------- 2/3 [pandas]\n",
      "   -------------------------- ------------- 2/3 [pandas]\n",
      "   -------------------------- ------------- 2/3 [pandas]\n",
      "   -------------------------- ------------- 2/3 [pandas]\n",
      "   -------------------------- ------------- 2/3 [pandas]\n",
      "   -------------------------- ------------- 2/3 [pandas]\n",
      "   -------------------------- ------------- 2/3 [pandas]\n",
      "   -------------------------- ------------- 2/3 [pandas]\n",
      "   -------------------------- ------------- 2/3 [pandas]\n",
      "   -------------------------- ------------- 2/3 [pandas]\n",
      "   -------------------------- ------------- 2/3 [pandas]\n",
      "   -------------------------- ------------- 2/3 [pandas]\n",
      "   -------------------------- ------------- 2/3 [pandas]\n",
      "   -------------------------- ------------- 2/3 [pandas]\n",
      "   ---------------------------------------- 3/3 [pandas]\n",
      "\n",
      "Successfully installed pandas-2.3.1 pytz-2025.2 tzdata-2025.2\n"
     ]
    }
   ],
   "source": [
    "!pip install pandas\n"
   ]
  },
  {
   "cell_type": "code",
   "execution_count": 1,
   "id": "fbb9fff3",
   "metadata": {},
   "outputs": [
    {
     "data": {
      "text/plain": [
       "16"
      ]
     },
     "execution_count": 1,
     "metadata": {},
     "output_type": "execute_result"
    }
   ],
   "source": [
    "foods = [\"Idly\", \"Dosa\", \"Vada\", \"Roti\", \"Meals\", \"Veg Biryani\",\n",
    "         \"Egg Biryani\", \"Chicken Biryani\", \"Mutton Biryani\",\n",
    "         \"Ice Cream\", \"Noodles\", \"Manchooriya\", \"Orange juice\",\n",
    "         \"Apple Juice\", \"Pineapple juice\", \"Banana juice\"]\n",
    "len(foods)"
   ]
  },
  {
   "cell_type": "code",
   "execution_count": 4,
   "id": "f91b008d",
   "metadata": {},
   "outputs": [],
   "source": [
    "# import pymysql\n",
    "# conn=pymysql.connect(user='root',password='Tanmay..7920',host='localhost')\n",
    "# qur='create database project1'\n",
    "# mycur=conn.cursor()\n",
    "# mycur.execute(qur)\n",
    "# mycur.close()\n",
    "# conn.close()"
   ]
  },
  {
   "cell_type": "code",
   "execution_count": 5,
   "id": "f7bad72b",
   "metadata": {},
   "outputs": [],
   "source": [
    "# import pymysql\n",
    "# conn=pymysql.connect(user='root',password='Tanmay..7920',host='localhost',database='project1')\n",
    "# qur='create table rest_table(food VARCHAR(40),good_review INT,bad_review INT,customer INT)'\n",
    "# mycur=conn.cursor()\n",
    "# mycur.execute(qur)\n",
    "# mycur.close()\n",
    "# conn.close()"
   ]
  },
  {
   "cell_type": "code",
   "execution_count": 1,
   "id": "ffc3e103",
   "metadata": {},
   "outputs": [
    {
     "name": "stdout",
     "output_type": "stream",
     "text": [
      "Requirement already satisfied: cryptography in c:\\users\\vikas\\anaconda3\\envs\\malenv\\lib\\site-packages (45.0.6)\n",
      "Requirement already satisfied: cffi>=1.14 in c:\\users\\vikas\\anaconda3\\envs\\malenv\\lib\\site-packages (from cryptography) (1.17.1)\n",
      "Requirement already satisfied: pycparser in c:\\users\\vikas\\anaconda3\\envs\\malenv\\lib\\site-packages (from cffi>=1.14->cryptography) (2.22)\n"
     ]
    }
   ],
   "source": [
    "! pip install cryptography"
   ]
  },
  {
   "cell_type": "code",
   "execution_count": null,
   "id": "b1d7506d",
   "metadata": {},
   "outputs": [],
   "source": [
    "# foods = [\"Idly\", \"Dosa\", \"Vada\", \"Roti\", \"Meals\", \"Veg Biryani\",\n",
    "#          \"Egg Biryani\", \"Chicken Biryani\", \"Mutton Biryani\",\n",
    "#          \"Ice Cream\", \"Noodles\", \"Manchooriya\", \"Orange juice\",\n",
    "#          \"Apple Juice\", \"Pineapple juice\", \"Banana juice\"]\n",
    "# for i in foods:\n",
    "#     conn=pymysql.connect(user='root',password='Tanmay..7920',host='localhost',\n",
    "#                          database='project1')\n",
    "#     qur='INSERT INTO rest_table(food,good_review,bad_review,customer) VALUES(\"%s\",%d,%d,%d)'%(i,0,0,0)\n",
    "#     mycur=conn.cursor()\n",
    "#     mycur.execute(qur)\n",
    "#     conn.commit()\n",
    "#     mycur.close()\n",
    "#     # conn.close()"
   ]
  },
  {
   "cell_type": "code",
   "execution_count": 7,
   "id": "ddc041df",
   "metadata": {},
   "outputs": [],
   "source": [
    "import pandas"
   ]
  },
  {
   "cell_type": "code",
   "execution_count": null,
   "id": "636fdda1",
   "metadata": {},
   "outputs": [],
   "source": []
  }
 ],
 "metadata": {
  "kernelspec": {
   "display_name": "malenv",
   "language": "python",
   "name": "python3"
  },
  "language_info": {
   "codemirror_mode": {
    "name": "ipython",
    "version": 3
   },
   "file_extension": ".py",
   "mimetype": "text/x-python",
   "name": "python",
   "nbconvert_exporter": "python",
   "pygments_lexer": "ipython3",
   "version": "3.10.18"
  }
 },
 "nbformat": 4,
 "nbformat_minor": 5
}
